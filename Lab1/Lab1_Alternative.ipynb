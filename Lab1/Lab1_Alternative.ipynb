{
  "cells": [
    {
      "cell_type": "code",
      "execution_count": 1,
      "metadata": {
        "id": "mRSu1yMFcyRp"
      },
      "outputs": [],
      "source": [
        "import numpy as np\n",
        "import matplotlib.pyplot as plt"
      ]
    },
    {
      "cell_type": "code",
      "execution_count": 2,
      "metadata": {
        "id": "-9l1xDTfgEZy"
      },
      "outputs": [],
      "source": [
        "m = 100 # кол-во покупателей\n",
        "x1 = 0 # ограничение пляжа слево\n",
        "x2 = 1 # ограничение пляжа слево\n",
        "p = p1 = p2 = 1 # цена продажи мороженого у торговцев\n",
        "c = c1 = c2 = 0 # цена производства\n",
        "tau = 0.5 # коэффициент расстояния для покупателей\n",
        "delta = 0.01 # коэффициент расстояния для торговцев\n",
        "v = 3 # максимальная цена, которую готов оплатить покупатель\n",
        "T = 1000 # кол-во шагов по времени"
      ]
    },
    {
      "cell_type": "code",
      "execution_count": 3,
      "metadata": {
        "id": "S3wzZf-an-3V"
      },
      "outputs": [],
      "source": [
        "# Класс торговца\n",
        "class Seller:\n",
        "  counter = 0\n",
        "  def __init__(self, j):\n",
        "    self.n = Seller.counter\n",
        "    Seller.counter += 1\n",
        "    self.x = j - 1 # можно датчик случайных чисел\n",
        "    self.p = p # цена продажи мороженого у торговца\n",
        "    self.c = c # издержки\n",
        "    self.q = 0 # счётчик покупателей\n",
        "\n",
        "  def calc_profit(self):\n",
        "    self.pi = (self.p - self.c) * self.q\n",
        "\n",
        "  def start_period(self):\n",
        "    self.q = 0\n",
        "    self.pi = 0\n",
        "\n",
        "  def move(self, other, pos_x):\n",
        "    if self.pi <= other.pi:\n",
        "      self.x = self.x - delta * np.sign(self.x - pos_x)\n",
        "\n",
        "# Класс покупателя\n",
        "class Customer:\n",
        "  def __init__(self, i):\n",
        "    self.x = np.random.uniform()\n",
        "    self.v = v\n",
        "    self.tau = tau\n",
        "\n",
        "  def choose(self, seller_list):\n",
        "    u1 = self.v - seller_list[0].p - self.tau * abs(self.x - seller_list[0].x)\n",
        "    u2 = self.v - seller_list[1].p - self.tau * abs(self.x - seller_list[1].x)\n",
        "    u3 = 0\n",
        "    if u1 >= u2 and u1 >= u3:\n",
        "      seller_list[0].q = seller_list[0].q + 1\n",
        "    if u2 >= u1 and u2 >= u3:\n",
        "      seller_list[1].q = seller_list[1].q + 1"
      ]
    },
    {
      "cell_type": "code",
      "execution_count": 4,
      "metadata": {
        "id": "9Bcfkcjgtx4O"
      },
      "outputs": [],
      "source": [
        "seller_list = [Seller(j) for j in range(1,3)]\n",
        "customers_list = [Customer(i) for i in range(1, m + 1)]"
      ]
    },
    {
      "cell_type": "code",
      "execution_count": 5,
      "metadata": {
        "id": "T_4hertMuEoy"
      },
      "outputs": [],
      "source": [
        "x1 = []\n",
        "x2 = []\n",
        "for t in range(T):\n",
        "  for s in seller_list:\n",
        "    s.start_period()\n",
        "  for cus in customers_list:\n",
        "    cus.choose(seller_list)\n",
        "  for s in seller_list:\n",
        "    s.calc_profit()\n",
        "  pos_1 = seller_list[0].x\n",
        "  pos_2 = seller_list[1].x\n",
        "  x1.append(pos_1)\n",
        "  x2.append(pos_2)\n",
        "  seller_list[0].move(seller_list[0], pos_2)\n",
        "  seller_list[1].move(seller_list[1], pos_1)\n",
        "  # проверка работоспособности скрипта\n",
        "  #for s in seller_list:\n",
        "  #  print(\"name: \", s.n, \"; profit: \", s.pi, \"; coord: \", s.x)"
      ]
    },
    {
      "cell_type": "code",
      "execution_count": 6,
      "metadata": {
        "colab": {
          "base_uri": "https://localhost:8080/",
          "height": 469
        },
        "id": "Nua1n0e5uxyb",
        "outputId": "1b22543d-d4e5-471d-8507-344c52630358"
      },
      "outputs": [
        {
          "data": {
            "text/plain": [
              "Text(0.5, 1.0, 'Movement')"
            ]
          },
          "execution_count": 6,
          "metadata": {},
          "output_type": "execute_result"
        },
        {
          "data": {
            "image/png": "[encoded data removed]",
            "text/plain": [
              "<Figure size 640x480 with 1 Axes>"
            ]
          },
          "metadata": {},
          "output_type": "display_data"
        }
      ],
      "source": [
        "# Вывод результатов\n",
        "plt.plot(x1)\n",
        "plt.plot(x2)\n",
        "plt.title(\"Movement\")"
      ]
    }
  ],
  "metadata": {
    "colab": {
      "provenance": []
    },
    "kernelspec": {
      "display_name": "Python 3",
      "name": "python3"
    },
    "language_info": {
      "name": "python"
    }
  },
  "nbformat": 4,
  "nbformat_minor": 0
}
